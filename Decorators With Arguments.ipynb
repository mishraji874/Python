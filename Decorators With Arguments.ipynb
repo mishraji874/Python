{
 "cells": [
  {
   "cell_type": "code",
   "execution_count": 2,
   "metadata": {},
   "outputs": [
    {
     "ename": "TypeError",
     "evalue": "decorator_function() takes 1 positional argument but 2 were given",
     "output_type": "error",
     "traceback": [
      "\u001b[1;31m---------------------------------------------------------------------------\u001b[0m",
      "\u001b[1;31mTypeError\u001b[0m                                 Traceback (most recent call last)",
      "\u001b[1;32md:\\Python\\Decorators With Arguments.ipynb Cell 1\u001b[0m in \u001b[0;36m<cell line: 15>\u001b[1;34m()\u001b[0m\n\u001b[0;32m     <a href='vscode-notebook-cell:/d%3A/Python/Decorators%20With%20Arguments.ipynb#W0sZmlsZQ%3D%3D?line=10'>11</a>\u001b[0m \u001b[39m@prefix_decorator\u001b[39m\n\u001b[0;32m     <a href='vscode-notebook-cell:/d%3A/Python/Decorators%20With%20Arguments.ipynb#W0sZmlsZQ%3D%3D?line=11'>12</a>\u001b[0m \u001b[39mdef\u001b[39;00m \u001b[39mdisplay_info\u001b[39m(name, age):\n\u001b[0;32m     <a href='vscode-notebook-cell:/d%3A/Python/Decorators%20With%20Arguments.ipynb#W0sZmlsZQ%3D%3D?line=12'>13</a>\u001b[0m     \u001b[39mprint\u001b[39m(\u001b[39m'\u001b[39m\u001b[39mdisplay info ran into with arguments (\u001b[39m\u001b[39m{}\u001b[39;00m\u001b[39m, \u001b[39m\u001b[39m{}\u001b[39;00m\u001b[39m)\u001b[39m\u001b[39m'\u001b[39m\u001b[39m.\u001b[39mformat(name, age))\n\u001b[1;32m---> <a href='vscode-notebook-cell:/d%3A/Python/Decorators%20With%20Arguments.ipynb#W0sZmlsZQ%3D%3D?line=14'>15</a>\u001b[0m display_info(\u001b[39m'\u001b[39;49m\u001b[39mJohn\u001b[39;49m\u001b[39m'\u001b[39;49m, \u001b[39m25\u001b[39;49m)\n\u001b[0;32m     <a href='vscode-notebook-cell:/d%3A/Python/Decorators%20With%20Arguments.ipynb#W0sZmlsZQ%3D%3D?line=15'>16</a>\u001b[0m display_info(\u001b[39m'\u001b[39m\u001b[39mTravis\u001b[39m\u001b[39m'\u001b[39m, \u001b[39m30\u001b[39m)\n",
      "\u001b[1;31mTypeError\u001b[0m: decorator_function() takes 1 positional argument but 2 were given"
     ]
    }
   ],
   "source": [
    "def prefix_decorator(prefix):\n",
    "    def decorator_function(original_function):\n",
    "        def wrapper_function(*args, **kwargs):\n",
    "            print(prefix, 'executed before', original_function.__name__)\n",
    "            result = original_function(*args, **kwargs)\n",
    "            print(prefix, 'executed after', original_function.__name__, '\\n')\n",
    "            return result\n",
    "        return wrapper_function\n",
    "    return decorator_function\n",
    "\n",
    "@prefix_decorator\n",
    "def display_info(name, age):\n",
    "    print('display info ran into with arguments ({}, {})'.format(name, age))\n",
    "    \n",
    "display_info('John', 25)\n",
    "display_info('Travis', 30)"
   ]
  }
 ],
 "metadata": {
  "kernelspec": {
   "display_name": "base",
   "language": "python",
   "name": "python3"
  },
  "language_info": {
   "codemirror_mode": {
    "name": "ipython",
    "version": 3
   },
   "file_extension": ".py",
   "mimetype": "text/x-python",
   "name": "python",
   "nbconvert_exporter": "python",
   "pygments_lexer": "ipython3",
   "version": "3.9.12"
  },
  "orig_nbformat": 4
 },
 "nbformat": 4,
 "nbformat_minor": 2
}
