{
 "cells": [
  {
   "cell_type": "code",
   "execution_count": 6,
   "metadata": {},
   "outputs": [
    {
     "name": "stdout",
     "output_type": "stream",
     "text": [
      "[0, 1, 2, 3, 4, 5, 6, 7, 8, 9]\n",
      "5\n",
      "9\n",
      "[0, 1, 2, 3, 4, 5]\n",
      "[3, 4, 5, 6, 7]\n",
      "[1, 2, 3, 4, 5, 6, 7]\n"
     ]
    }
   ],
   "source": [
    "my_list = [0, 1, 2, 3, 4, 5, 6, 7, 8, 9]\n",
    "print(my_list)\n",
    "print(my_list[5])\n",
    "print(my_list[-1])\n",
    "\n",
    "#list[start:end:step]\n",
    "print(my_list[0:6])\n",
    "print(my_list[-7:8])\n",
    "print(my_list[1:-2])"
   ]
  },
  {
   "cell_type": "code",
   "execution_count": 11,
   "metadata": {},
   "outputs": [
    {
     "name": "stdout",
     "output_type": "stream",
     "text": [
      "[0, 1, 2, 3, 4, 5, 6, 7, 8, 9]\n",
      "[2, 4, 6, 8]\n",
      "[9, 8, 7, 6, 5, 4, 3]\n",
      "[8, 6, 4, 2]\n",
      "[9, 8, 7, 6, 5, 4, 3, 2, 1, 0]\n"
     ]
    }
   ],
   "source": [
    "my_list = [0, 1, 2, 3, 4, 5, 6, 7, 8, 9]\n",
    "print(my_list[:])\n",
    "print(my_list[2:-1:2])\n",
    "print(my_list[-1:2:-1])\n",
    "print(my_list[-2:1:-2])\n",
    "print(my_list[::-1])"
   ]
  },
  {
   "cell_type": "code",
   "execution_count": 15,
   "metadata": {},
   "outputs": [
    {
     "name": "stdout",
     "output_type": "stream",
     "text": [
      "http://coreyms.com\n",
      "moc.smyeroc//:ptth\n",
      ".com\n",
      "coreyms.com\n",
      "coreyms\n"
     ]
    }
   ],
   "source": [
    "#slicing strings\n",
    "sample_url = 'http://coreyms.com'\n",
    "print(sample_url)\n",
    "print(sample_url[::-1])\n",
    "print(sample_url[-4:])\n",
    "print(sample_url[7:])\n",
    "print(sample_url[7:-4])"
   ]
  }
 ],
 "metadata": {
  "kernelspec": {
   "display_name": "base",
   "language": "python",
   "name": "python3"
  },
  "language_info": {
   "codemirror_mode": {
    "name": "ipython",
    "version": 3
   },
   "file_extension": ".py",
   "mimetype": "text/x-python",
   "name": "python",
   "nbconvert_exporter": "python",
   "pygments_lexer": "ipython3",
   "version": "3.9.12"
  },
  "orig_nbformat": 4
 },
 "nbformat": 4,
 "nbformat_minor": 2
}
