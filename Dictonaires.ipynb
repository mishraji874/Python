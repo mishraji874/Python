{
 "cells": [
  {
   "cell_type": "code",
   "execution_count": 16,
   "id": "47ca14c4",
   "metadata": {},
   "outputs": [
    {
     "name": "stdout",
     "output_type": "stream",
     "text": [
      "{'name': 'John', 'age': 25, 'courses': ['Math', 'CompSci'], 'phone': '555-5555'}\n",
      "John\n",
      "['Math', 'CompSci']\n",
      "John\n",
      "555-5555\n",
      "{'name': 'Jane', 'age': 26, 'courses': ['Math', 'CompSci'], 'phone': '555-555555'}\n",
      "{'name': 'Jane', 'courses': ['Math', 'CompSci'], 'phone': '555-555555'}\n",
      "dict_values(['Jane', ['Math', 'CompSci'], '555-555555'])\n",
      "dict_keys(['name', 'courses', 'phone'])\n",
      "dict_items([('name', 'Jane'), ('courses', ['Math', 'CompSci']), ('phone', '555-555555')])\n",
      "name\n",
      "courses\n",
      "phone\n",
      "name Jane\n",
      "courses ['Math', 'CompSci']\n",
      "phone 555-555555\n"
     ]
    }
   ],
   "source": [
    "#Dictonaires\n",
    "#associated with key and value pairs\n",
    "\n",
    "student = {'name': 'John', 'age': 25, 'courses': ['Math', 'CompSci']}\n",
    "student['phone'] = '555-5555'\n",
    "print(student)\n",
    "print(student['name'])\n",
    "print(student['courses'])\n",
    "print(student.get('name'))\n",
    "print(student.get('phone', 'not found'))\n",
    "student.update({'name': 'Jane', 'age': 26, 'phone': '555-555555'})\n",
    "print(student)\n",
    "\n",
    "del student['age']\n",
    "print(student)\n",
    "#pop() can also be used for deletion purpose\n",
    "\n",
    "print(student.values())\n",
    "print(student.keys())\n",
    "print(student.items())\n",
    "\n",
    "for key in student:\n",
    "    print(key)\n",
    "    \n",
    "for key, value in student.items():\n",
    "    print(key, value)"
   ]
  },
  {
   "cell_type": "code",
   "execution_count": null,
   "id": "473b64af",
   "metadata": {},
   "outputs": [],
   "source": []
  }
 ],
 "metadata": {
  "kernelspec": {
   "display_name": "Python 3 (ipykernel)",
   "language": "python",
   "name": "python3"
  },
  "language_info": {
   "codemirror_mode": {
    "name": "ipython",
    "version": 3
   },
   "file_extension": ".py",
   "mimetype": "text/x-python",
   "name": "python",
   "nbconvert_exporter": "python",
   "pygments_lexer": "ipython3",
   "version": "3.9.12"
  }
 },
 "nbformat": 4,
 "nbformat_minor": 5
}
