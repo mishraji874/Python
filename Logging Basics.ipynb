{
 "cells": [
  {
   "cell_type": "code",
   "execution_count": 1,
   "metadata": {},
   "outputs": [],
   "source": [
    "import logging\n",
    "\n",
    "def add(x, y):\n",
    "    return x + y\n",
    "\n",
    "def subtract(x, y):\n",
    "    return x - y\n",
    "\n",
    "def multiply(x, y):\n",
    "    return x * y\n",
    "\n",
    "def division(x, y):\n",
    "    return x / y\n",
    "\n",
    "num_1 = 10\n",
    "num_2 = 5\n",
    "\n",
    "add_result = add(num_1, num_2)\n",
    "logging.debug(f'Add: {num_1} + {num_2} = {add_result}')\n",
    "\n",
    "sub_result = subtract(num_1, num_2)\n",
    "logging.debug(f'Subtract: {num_1} - {num_2} = {sub_result}')\n",
    "\n",
    "mul_result = multiply(num_1, num_2)\n",
    "logging.debug(f'Multiply: {num_1} * {num_2} = {mul_result}')\n",
    "\n",
    "div_result = division(num_1, num_2)\n",
    "logging.debug(f'Division: {num_1} / {num_2} = {div_result}')"
   ]
  },
  {
   "cell_type": "code",
   "execution_count": 2,
   "metadata": {},
   "outputs": [
    {
     "name": "stderr",
     "output_type": "stream",
     "text": [
      "WARNING:root:Add: 10 + 5 = 15\n",
      "WARNING:root:Subtract: 10 - 5 = 5\n",
      "WARNING:root:Multiply: 10 * 5 = 50\n",
      "WARNING:root:Division: 10 / 5 = 2.0\n"
     ]
    }
   ],
   "source": [
    "import logging\n",
    "\n",
    "def add(x, y):\n",
    "    return x + y\n",
    "\n",
    "def subtract(x, y):\n",
    "    return x - y\n",
    "\n",
    "def multiply(x, y):\n",
    "    return x * y\n",
    "\n",
    "def division(x, y):\n",
    "    return x / y\n",
    "\n",
    "num_1 = 10\n",
    "num_2 = 5\n",
    "\n",
    "add_result = add(num_1, num_2)\n",
    "logging.warning(f'Add: {num_1} + {num_2} = {add_result}')\n",
    "\n",
    "sub_result = subtract(num_1, num_2)\n",
    "logging.warning(f'Subtract: {num_1} - {num_2} = {sub_result}')\n",
    "\n",
    "mul_result = multiply(num_1, num_2)\n",
    "logging.warning(f'Multiply: {num_1} * {num_2} = {mul_result}')\n",
    "\n",
    "div_result = division(num_1, num_2)\n",
    "logging.warning(f'Division: {num_1} / {num_2} = {div_result}')"
   ]
  },
  {
   "cell_type": "code",
   "execution_count": 3,
   "metadata": {},
   "outputs": [],
   "source": [
    "import logging\n",
    "\n",
    "logging.basicConfig(filename = 'test.log', level=logging.DEBUG)\n",
    "\n",
    "def add(x, y):\n",
    "    return x + y\n",
    "\n",
    "def subtract(x, y):\n",
    "    return x - y\n",
    "\n",
    "def multiply(x, y):\n",
    "    return x * y\n",
    "\n",
    "def division(x, y):\n",
    "    return x / y\n",
    "\n",
    "num_1 = 10\n",
    "num_2 = 5\n",
    "\n",
    "add_result = add(num_1, num_2)\n",
    "logging.debug(f'Add: {num_1} + {num_2} = {add_result}')\n",
    "\n",
    "sub_result = subtract(num_1, num_2)\n",
    "logging.debug(f'Subtract: {num_1} - {num_2} = {sub_result}')\n",
    "\n",
    "mul_result = multiply(num_1, num_2)\n",
    "logging.debug(f'Multiply: {num_1} * {num_2} = {mul_result}')\n",
    "\n",
    "div_result = division(num_1, num_2)\n",
    "logging.debug(f'Division: {num_1} / {num_2} = {div_result}')"
   ]
  }
 ],
 "metadata": {
  "kernelspec": {
   "display_name": "base",
   "language": "python",
   "name": "python3"
  },
  "language_info": {
   "codemirror_mode": {
    "name": "ipython",
    "version": 3
   },
   "file_extension": ".py",
   "mimetype": "text/x-python",
   "name": "python",
   "nbconvert_exporter": "python",
   "pygments_lexer": "ipython3",
   "version": "3.9.12"
  },
  "orig_nbformat": 4
 },
 "nbformat": 4,
 "nbformat_minor": 2
}
