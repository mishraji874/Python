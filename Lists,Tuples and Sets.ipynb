{
 "cells": [
  {
   "cell_type": "code",
   "execution_count": 17,
   "id": "490b0db4",
   "metadata": {},
   "outputs": [
    {
     "name": "stdout",
     "output_type": "stream",
     "text": [
      "['History', 'Maths', 'Physics', 'CompSci']\n",
      "4\n",
      "Physics\n",
      "CompSci\n",
      "['History', 'Maths']\n",
      "['Physics', 'CompSci']\n",
      "['History', 'Maths', 'Physics', 'CompSci', 'Art']\n",
      "['Art', 'History', 'Maths', 'Physics', 'CompSci', 'Art']\n",
      "[['Art', 'Education'], 'Art', 'History', 'Maths', 'Physics', 'CompSci', 'Art']\n",
      "[['Art', 'Education'], 'Art', 'History', 'Maths', 'Physics', 'CompSci', 'Art', 'Art', 'Education']\n",
      "[['Art', 'Education'], 'Art', 'History', 'Physics', 'CompSci', 'Art', 'Art', 'Education']\n",
      "[['Art', 'Education'], 'Art', 'History', 'Physics', 'CompSci', 'Art', 'Art']\n"
     ]
    }
   ],
   "source": [
    "#Lists\n",
    "courses = ['History', 'Maths', 'Physics', 'CompSci']\n",
    "courses2 = ['Art', 'Education']\n",
    "print(courses)\n",
    "print(len(courses))\n",
    "print(courses[2]) #index starts from 0\n",
    "print(courses[-1]) #list supports negative indexing it can print the result if you want to access it from the back\n",
    "#if the desried index is not there in the list then it will show the error\n",
    "print(courses[0:2]) #first index is 0 and ending point is 2 but it will show only 0 and 1 it will not include index 2 value\n",
    "print(courses[2:])\n",
    "courses.append('Art') #append is used to insert the value at the end of the lists\n",
    "print(courses)\n",
    "courses.insert(0,'Art') #0 is the index where it has to put the value and Art is the value what we have to insert it\n",
    "#but remember that insert and append are different because append insert the value at the end only and insert can insert the value wherever you wanted\n",
    "print(courses)\n",
    "courses.insert(0, courses2) #if you insert any list inside another list then it will printed as a list only\n",
    "print(courses)\n",
    "courses.extend(courses2) #extend() method is used when we have to extend the list like add a new list to another list\n",
    "print(courses)\n",
    "courses.remove('Maths') #it will remove the certain element from the list\n",
    "print(courses)\n",
    "courses.pop() #pop() is used for removing the last value from the list\n",
    "print(courses)"
   ]
  },
  {
   "cell_type": "code",
   "execution_count": 22,
   "id": "6ce5f95e",
   "metadata": {},
   "outputs": [
    {
     "name": "stdout",
     "output_type": "stream",
     "text": [
      "['CompSci', 'Physics', 'Maths', 'History']\n",
      "['CompSci', 'History', 'Maths', 'Physics']\n",
      "['CompSci', 'History', 'Maths', 'Physics']\n",
      "1\n",
      "5\n",
      "15\n"
     ]
    }
   ],
   "source": [
    "courses = ['History', 'Maths', 'Physics', 'CompSci']\n",
    "num = [1, 5, 2, 4, 3]\n",
    "courses.reverse() #reverse() is used for reverse the list\n",
    "print(courses)\n",
    "courses.sort() #sort the list in the alphabatically order and numeric order\n",
    "print(courses)\n",
    "#if you want to sort the list in the reverse order then use this\n",
    "#courses.sort(reverse=True)\n",
    "#print(courses)\n",
    "\n",
    "#we can also use the builtin method to sort any list\n",
    "sorted_counts = sorted(courses)\n",
    "print(sorted_counts)\n",
    "print(min(num))\n",
    "print(max(num))\n",
    "print(sum(num))"
   ]
  },
  {
   "cell_type": "code",
   "execution_count": 25,
   "id": "c2680d92",
   "metadata": {},
   "outputs": [
    {
     "name": "stdout",
     "output_type": "stream",
     "text": [
      "3\n",
      "True\n"
     ]
    }
   ],
   "source": [
    "courses = ['History', 'Maths', 'Physics', 'CompSci']\n",
    "print(courses.index('CompSci')) #index() method will return the index of the given item where it is placed\n",
    "print('Maths' in courses) #identity operator which returns true if item is there and false if item is not there"
   ]
  },
  {
   "cell_type": "code",
   "execution_count": 31,
   "id": "b1aefb46",
   "metadata": {},
   "outputs": [
    {
     "name": "stdout",
     "output_type": "stream",
     "text": [
      "History\n",
      "Maths\n",
      "Physics\n",
      "CompSci\n",
      "0 History\n",
      "1 Maths\n",
      "2 Physics\n",
      "3 CompSci\n",
      "History, Maths, Physics, CompSci\n",
      "['History, Maths, Physics, CompSci']\n"
     ]
    }
   ],
   "source": [
    "courses = ['History', 'Maths', 'Physics', 'CompSci']\n",
    "for item in courses:\n",
    "    print(item)\n",
    "\n",
    "#enumerate is used to return the index and value of the item in the list\n",
    "for index, course in enumerate(courses):\n",
    "    print(index, course)\n",
    "    \n",
    "courses_str = ', '.join(courses)\n",
    "print(courses_str)\n",
    "\n",
    "new_list = courses_str.split(' - ')\n",
    "print(new_list)"
   ]
  },
  {
   "cell_type": "code",
   "execution_count": 36,
   "id": "6dfbcca6",
   "metadata": {},
   "outputs": [
    {
     "name": "stdout",
     "output_type": "stream",
     "text": [
      "('History', 'Maths', 'Physics', 'CompSci')\n",
      "('History', 'Maths', 'Physics', 'CompSci')\n"
     ]
    }
   ],
   "source": [
    "#Tuples\n",
    "#we can't modify tuples\n",
    "tuple1 = ('History', 'Maths', 'Physics', 'CompSci')\n",
    "tuple2 = tuple1\n",
    "print(tuple1)\n",
    "print(tuple2)\n",
    "\n",
    "#tuple1[0] = 'Art'\n",
    "#print(tuple1)\n",
    "#print(tuple2)"
   ]
  },
  {
   "cell_type": "code",
   "execution_count": 53,
   "id": "8e433b83",
   "metadata": {},
   "outputs": [
    {
     "name": "stdout",
     "output_type": "stream",
     "text": [
      "{'Physics', 'CompSci', 'History', 'Maths'}\n",
      "True\n",
      "{'History', 'Maths'}\n",
      "{'Physics', 'CompSci'}\n"
     ]
    }
   ],
   "source": [
    "#Sets\n",
    "#it does not have duplicate values\n",
    "cs_courses = {'History', 'Maths', 'Physics', 'CompSci'}\n",
    "art_courses = {'History', 'Maths', 'Art', 'Design'}\n",
    "print(cs_courses)\n",
    "print('Maths' in cs_courses)\n",
    "print(cs_courses.intersection(art_courses)) #it will the common items which are present in both of the lists\n",
    "print(cs_courses.difference(art_courses)) #it will give the different items which were not there in second list\n",
    "print(cs_courses.union(art_courses)) #union() method is used for combinig of the sets together\n"
   ]
  }
 ],
 "metadata": {
  "kernelspec": {
   "display_name": "Python 3 (ipykernel)",
   "language": "python",
   "name": "python3"
  },
  "language_info": {
   "codemirror_mode": {
    "name": "ipython",
    "version": 3
   },
   "file_extension": ".py",
   "mimetype": "text/x-python",
   "name": "python",
   "nbconvert_exporter": "python",
   "pygments_lexer": "ipython3",
   "version": "3.9.12"
  }
 },
 "nbformat": 4,
 "nbformat_minor": 5
}
