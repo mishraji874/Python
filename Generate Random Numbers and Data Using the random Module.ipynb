{
 "cells": [
  {
   "cell_type": "code",
   "execution_count": 13,
   "metadata": {},
   "outputs": [
    {
     "name": "stdout",
     "output_type": "stream",
     "text": [
      "0.8182336191140724\n"
     ]
    }
   ],
   "source": [
    "import random\n",
    "value = random.random() #it will print only random value from 0 to 1 exclusive 1\n",
    "print(value)"
   ]
  },
  {
   "cell_type": "code",
   "execution_count": 17,
   "metadata": {},
   "outputs": [
    {
     "name": "stdout",
     "output_type": "stream",
     "text": [
      "6.914864285669202\n"
     ]
    }
   ],
   "source": [
    "value = random.uniform(1, 10) #it will give random value between 1 to 10\n",
    "print(value)"
   ]
  },
  {
   "cell_type": "code",
   "execution_count": 25,
   "metadata": {},
   "outputs": [
    {
     "name": "stdout",
     "output_type": "stream",
     "text": [
      "5\n"
     ]
    }
   ],
   "source": [
    "#to get random integers\n",
    "value = random.randint(1, 6)\n",
    "print(value)"
   ]
  },
  {
   "cell_type": "code",
   "execution_count": 31,
   "metadata": {},
   "outputs": [
    {
     "name": "stdout",
     "output_type": "stream",
     "text": [
      "1\n"
     ]
    }
   ],
   "source": [
    "#for toss purpose\n",
    "value = random.randint(0, 1)\n",
    "print(value)"
   ]
  },
  {
   "cell_type": "code",
   "execution_count": 36,
   "metadata": {},
   "outputs": [
    {
     "name": "stdout",
     "output_type": "stream",
     "text": [
      "Hola\n"
     ]
    }
   ],
   "source": [
    "greetings = ['Hello', 'Hi', 'Hey', 'Howdy', 'Hola']\n",
    "value = random.choice(greetings)\n",
    "print(value)"
   ]
  },
  {
   "cell_type": "code",
   "execution_count": 37,
   "metadata": {},
   "outputs": [
    {
     "ename": "SyntaxError",
     "evalue": "positional argument follows keyword argument (3937292745.py, line 3)",
     "output_type": "error",
     "traceback": [
      "\u001b[1;36m  Input \u001b[1;32mIn [37]\u001b[1;36m\u001b[0m\n\u001b[1;33m    print(value = ' ', 'Corey!')\u001b[0m\n\u001b[1;37m                               ^\u001b[0m\n\u001b[1;31mSyntaxError\u001b[0m\u001b[1;31m:\u001b[0m positional argument follows keyword argument\n"
     ]
    }
   ],
   "source": [
    "greetings = ['Hello', 'Hi', 'Hey', 'Howdy', 'Hola']\n",
    "value = random.choice(greetings)\n",
    "print(value = ' ', 'Corey!')"
   ]
  },
  {
   "cell_type": "code",
   "execution_count": 39,
   "metadata": {},
   "outputs": [
    {
     "name": "stdout",
     "output_type": "stream",
     "text": [
      "['Black', 'Red', 'Black', 'Black', 'Red', 'Black', 'Red', 'Black', 'Red', 'Black']\n"
     ]
    }
   ],
   "source": [
    "colors = ['Red', 'Black', 'Green']\n",
    "results = random.choices(colors, weights = [18, 18, 2], k = 10)\n",
    "print(results)"
   ]
  },
  {
   "cell_type": "code",
   "execution_count": 40,
   "metadata": {},
   "outputs": [
    {
     "name": "stdout",
     "output_type": "stream",
     "text": [
      "[29, 45, 34, 27, 52, 38, 19, 22, 8, 30, 41, 6, 1, 4, 32, 44, 9, 11, 26, 43, 24, 47, 31, 14, 3, 39, 48, 21, 17, 20, 36, 12, 10, 16, 7, 35, 28, 46, 40, 51, 37, 23, 18, 25, 13, 5, 33, 42, 49, 2, 15, 50]\n"
     ]
    }
   ],
   "source": [
    "deck = list(range(1, 53))\n",
    "random.shuffle(deck)\n",
    "print(deck)"
   ]
  },
  {
   "cell_type": "code",
   "execution_count": 41,
   "metadata": {},
   "outputs": [
    {
     "name": "stdout",
     "output_type": "stream",
     "text": [
      "[13, 36, 16, 44, 41]\n"
     ]
    }
   ],
   "source": [
    "deck = list(range(1, 53))\n",
    "hand = random.sample(deck, k = 5)\n",
    "print(hand)"
   ]
  }
 ],
 "metadata": {
  "kernelspec": {
   "display_name": "base",
   "language": "python",
   "name": "python3"
  },
  "language_info": {
   "codemirror_mode": {
    "name": "ipython",
    "version": 3
   },
   "file_extension": ".py",
   "mimetype": "text/x-python",
   "name": "python",
   "nbconvert_exporter": "python",
   "pygments_lexer": "ipython3",
   "version": "3.9.12"
  },
  "orig_nbformat": 4
 },
 "nbformat": 4,
 "nbformat_minor": 2
}
