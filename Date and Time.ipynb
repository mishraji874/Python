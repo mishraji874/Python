{
 "cells": [
  {
   "cell_type": "code",
   "execution_count": 8,
   "metadata": {},
   "outputs": [
    {
     "name": "stdout",
     "output_type": "stream",
     "text": [
      "30\n",
      "22\n",
      "2023-05-01\n",
      "2023-05-01 4944.17\n",
      "2023-05-01 4887.73\n",
      "2023-05-01 4830.68\n",
      "2023-05-01 4773.01\n",
      "2023-05-01 4714.72\n",
      "2023-05-01 4655.8\n",
      "2023-05-01 4596.24\n",
      "2023-05-01 4536.03\n",
      "2023-05-01 4475.17\n",
      "2023-05-01 4413.65\n",
      "2023-05-01 4351.46\n",
      "2023-05-01 4288.6\n",
      "2023-05-01 4225.06\n",
      "2023-05-01 4160.83\n",
      "2023-05-01 4095.91\n",
      "2023-05-01 4030.28\n",
      "2023-05-01 3963.94\n",
      "2023-05-01 3896.88\n",
      "2023-05-01 3829.1\n",
      "2023-05-01 3760.58\n",
      "2023-05-01 3691.32\n",
      "2023-05-01 3621.31\n",
      "2023-05-01 3550.54\n",
      "2023-05-01 3479.0\n",
      "2023-05-01 3406.69\n",
      "2023-05-01 3333.6\n",
      "2023-05-01 3259.71\n",
      "2023-05-01 3185.02\n",
      "2023-05-01 3109.52\n",
      "2023-05-01 3033.21\n",
      "2023-05-01 2956.07\n",
      "2023-05-01 2878.09\n",
      "2023-05-01 2799.27\n",
      "2023-05-01 2719.6\n",
      "2023-05-01 2639.06\n",
      "2023-05-01 2557.65\n",
      "2023-05-01 2475.36\n",
      "2023-05-01 2392.18\n",
      "2023-05-01 2308.1\n",
      "2023-05-01 2223.1\n",
      "2023-05-01 2137.18\n",
      "2023-05-01 2050.33\n",
      "2023-05-01 1962.54\n",
      "2023-05-01 1873.8\n",
      "2023-05-01 1784.1\n",
      "2023-05-01 1693.43\n",
      "2023-05-01 1601.78\n",
      "2023-05-01 1509.13\n",
      "2023-05-01 1415.48\n",
      "2023-05-01 1320.81\n",
      "2023-05-01 1225.12\n",
      "2023-05-01 1128.39\n",
      "2023-05-01 1030.61\n",
      "2023-05-01 931.77\n",
      "2023-05-01 831.86\n",
      "2023-05-01 730.87\n",
      "2023-05-01 628.79\n",
      "2023-05-01 525.6\n",
      "2023-05-01 421.29\n",
      "2023-05-01 315.85\n",
      "2023-05-01 209.27\n",
      "2023-05-01 101.54\n",
      "2023-05-01 0\n"
     ]
    }
   ],
   "source": [
    "import datetime\n",
    "import calendar\n",
    "\n",
    "balance = 5000\n",
    "interest_rate = 13 * .01\n",
    "monthly_payment = 110\n",
    "\n",
    "today = datetime.date.today()\n",
    "\n",
    "days_in_current_month = calendar.monthrange(today.year, today.month)[1]\n",
    "print(days_in_current_month)\n",
    "\n",
    "days_till_end_month = days_in_current_month - today.day\n",
    "print(days_till_end_month)\n",
    "\n",
    "start_date = today + datetime.timedelta(days = days_till_end_month + 1)\n",
    "print(start_date)\n",
    "\n",
    "end_date = start_date\n",
    "\n",
    "while balance > 0:\n",
    "    interest_charge = (interest_rate / 12) * balance\n",
    "    balance += interest_charge\n",
    "    balance -= monthly_payment\n",
    "    \n",
    "    balance = round(balance, 2)\n",
    "    if balance < 0:\n",
    "        balance = 0\n",
    "        \n",
    "    print(end_date, balance)\n",
    "    \n",
    "    days_in_current_month = calendar.monthrange(today.year, today.month)[1]\n",
    "    start_date = end_date + datetime.timedelta(days = days_till_end_month + 1)"
   ]
  },
  {
   "cell_type": "code",
   "execution_count": 10,
   "metadata": {},
   "outputs": [
    {
     "name": "stdout",
     "output_type": "stream",
     "text": [
      "7 days, 0:00:00\n"
     ]
    },
    {
     "ename": "TypeError",
     "evalue": "unsupported operand type(s) for -: 'datetime.timedelta' and 'datetime.date'",
     "output_type": "error",
     "traceback": [
      "\u001b[1;31m---------------------------------------------------------------------------\u001b[0m",
      "\u001b[1;31mTypeError\u001b[0m                                 Traceback (most recent call last)",
      "\u001b[1;32md:\\Python\\Date and Time.ipynb Cell 2\u001b[0m in \u001b[0;36m<cell line: 15>\u001b[1;34m()\u001b[0m\n\u001b[0;32m     <a href='vscode-notebook-cell:/d%3A/Python/Date%20and%20Time.ipynb#W1sZmlsZQ%3D%3D?line=11'>12</a>\u001b[0m     current_weight \u001b[39m-\u001b[39m\u001b[39m=\u001b[39m avg_lbs_week\n\u001b[0;32m     <a href='vscode-notebook-cell:/d%3A/Python/Date%20and%20Time.ipynb#W1sZmlsZQ%3D%3D?line=13'>14</a>\u001b[0m \u001b[39mprint\u001b[39m(end_date)\n\u001b[1;32m---> <a href='vscode-notebook-cell:/d%3A/Python/Date%20and%20Time.ipynb#W1sZmlsZQ%3D%3D?line=14'>15</a>\u001b[0m \u001b[39mprint\u001b[39m(\u001b[39mf\u001b[39m\u001b[39m'\u001b[39m\u001b[39mReached goal in \u001b[39m\u001b[39m{\u001b[39;00m(end_date \u001b[39m-\u001b[39m start_date)\u001b[39m.\u001b[39mdays \u001b[39m/\u001b[39m\u001b[39m/\u001b[39m \u001b[39m7\u001b[39m\u001b[39m}\u001b[39;00m\u001b[39m'\u001b[39m)\n",
      "\u001b[1;31mTypeError\u001b[0m: unsupported operand type(s) for -: 'datetime.timedelta' and 'datetime.date'"
     ]
    }
   ],
   "source": [
    "import datetime\n",
    "\n",
    "current_weight = 220\n",
    "goal_weight = 180\n",
    "avg_lbs_week = 1.5\n",
    "\n",
    "start_date = datetime.date.today()\n",
    "end_date = start_date\n",
    "\n",
    "while current_weight > goal_weight:\n",
    "    end_date = datetime.timedelta(days=7)\n",
    "    current_weight -= avg_lbs_week\n",
    "    \n",
    "print(end_date)\n",
    "print(f'Reached goal in {(end_date - start_date).days // 7}')"
   ]
  },
  {
   "cell_type": "code",
   "execution_count": 11,
   "metadata": {},
   "outputs": [
    {
     "ename": "NameError",
     "evalue": "name 'subs' is not defined",
     "output_type": "error",
     "traceback": [
      "\u001b[1;31m---------------------------------------------------------------------------\u001b[0m",
      "\u001b[1;31mNameError\u001b[0m                                 Traceback (most recent call last)",
      "\u001b[1;32md:\\Python\\Date and Time.ipynb Cell 3\u001b[0m in \u001b[0;36m<cell line: 9>\u001b[1;34m()\u001b[0m\n\u001b[0;32m      <a href='vscode-notebook-cell:/d%3A/Python/Date%20and%20Time.ipynb#W2sZmlsZQ%3D%3D?line=5'>6</a>\u001b[0m subs_to_go \u001b[39m=\u001b[39m goal_subs \u001b[39m-\u001b[39m current_subs\n\u001b[0;32m      <a href='vscode-notebook-cell:/d%3A/Python/Date%20and%20Time.ipynb#W2sZmlsZQ%3D%3D?line=7'>8</a>\u001b[0m avg_subs_day \u001b[39m=\u001b[39m \u001b[39m200\u001b[39m\n\u001b[1;32m----> <a href='vscode-notebook-cell:/d%3A/Python/Date%20and%20Time.ipynb#W2sZmlsZQ%3D%3D?line=8'>9</a>\u001b[0m days_to_go \u001b[39m=\u001b[39m math\u001b[39m.\u001b[39mceil(subs\u001b[39m-\u001b[39mto_go \u001b[39m/\u001b[39m avg_subs_day)\n\u001b[0;32m     <a href='vscode-notebook-cell:/d%3A/Python/Date%20and%20Time.ipynb#W2sZmlsZQ%3D%3D?line=10'>11</a>\u001b[0m today \u001b[39m=\u001b[39m datetime\u001b[39m.\u001b[39mdate\u001b[39m.\u001b[39mtoday()\n\u001b[0;32m     <a href='vscode-notebook-cell:/d%3A/Python/Date%20and%20Time.ipynb#W2sZmlsZQ%3D%3D?line=12'>13</a>\u001b[0m \u001b[39mprint\u001b[39m(today \u001b[39m+\u001b[39m datetime\u001b[39m.\u001b[39mtimedelta(days \u001b[39m=\u001b[39m days_to_go))\n",
      "\u001b[1;31mNameError\u001b[0m: name 'subs' is not defined"
     ]
    }
   ],
   "source": [
    "import datetime\n",
    "import math\n",
    "\n",
    "goal_subs = 100000\n",
    "current_subs = 85000\n",
    "subs_to_go = goal_subs - current_subs\n",
    "\n",
    "avg_subs_day = 200\n",
    "days_to_go = math.ceil(subs-to_go / avg_subs_day)\n",
    "\n",
    "today = datetime.date.today()\n",
    "\n",
    "print(today + datetime.timedelta(days = days_to_go))"
   ]
  }
 ],
 "metadata": {
  "kernelspec": {
   "display_name": "base",
   "language": "python",
   "name": "python3"
  },
  "language_info": {
   "codemirror_mode": {
    "name": "ipython",
    "version": 3
   },
   "file_extension": ".py",
   "mimetype": "text/x-python",
   "name": "python",
   "nbconvert_exporter": "python",
   "pygments_lexer": "ipython3",
   "version": "3.9.12"
  },
  "orig_nbformat": 4
 },
 "nbformat": 4,
 "nbformat_minor": 2
}
