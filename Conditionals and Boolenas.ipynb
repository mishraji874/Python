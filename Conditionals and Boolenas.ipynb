{
 "cells": [
  {
   "cell_type": "code",
   "execution_count": 9,
   "id": "9815fc59",
   "metadata": {},
   "outputs": [
    {
     "name": "stdout",
     "output_type": "stream",
     "text": [
      "Language is Java\n",
      "Bad creds\n",
      "Admin Page\n",
      "Please login\n"
     ]
    }
   ],
   "source": [
    "\"\"\"\n",
    "Conditions\n",
    "Equal: ==\n",
    "Not equal: !=\n",
    "Greate than: >\n",
    "Less than: <\n",
    "Greater than or equal to: >=\n",
    "Less than or equal to: <=\n",
    "Object identity: is\n",
    "\n",
    "and\n",
    "or\n",
    "not\n",
    "\"\"\"\n",
    "\n",
    "language = 'Java'\n",
    "if language == 'Python':\n",
    "    print(\"Language is Python\")\n",
    "elif language == 'Java':\n",
    "    print(\"Language is Java\")\n",
    "else:\n",
    "    print(\"No match\")\n",
    "    \n",
    "user = 'Admin'\n",
    "logged_in = False\n",
    "if user == 'Admin' and logged_in:\n",
    "    print(\"Admin Page\")\n",
    "else:\n",
    "    print(\"Bad creds\")\n",
    "\n",
    "if user == 'Admin' or logged_in:\n",
    "    print(\"Admin Page\")\n",
    "else:\n",
    "    print(\"Bad creds\")\n",
    "    \n",
    "if not logged_in:\n",
    "    print(\"Please login\")\n",
    "else:\n",
    "    print(\"Welcome\")"
   ]
  },
  {
   "cell_type": "code",
   "execution_count": 12,
   "id": "30323698",
   "metadata": {},
   "outputs": [
    {
     "name": "stdout",
     "output_type": "stream",
     "text": [
      "True\n",
      "False\n",
      "2673017034176\n",
      "2673017034432\n"
     ]
    }
   ],
   "source": [
    "a = [1, 2, 3]\n",
    "b = [1, 2, 3]\n",
    "print(a == b)\n",
    "print(a is b) #they can be true if b = a then their id's will be same\n",
    "print(id(a))\n",
    "print(id(b))"
   ]
  },
  {
   "cell_type": "code",
   "execution_count": 13,
   "id": "8b465cde",
   "metadata": {},
   "outputs": [
    {
     "name": "stdout",
     "output_type": "stream",
     "text": [
      "Evaluated to False\n"
     ]
    }
   ],
   "source": [
    "\"\"\"\n",
    "False values\n",
    "False\n",
    "None\n",
    "Zero of any numeric type\n",
    "Any empty sequence. For example, '',(),[]\n",
    "Any empty mapping. For example, {}\n",
    "\"\"\"\n",
    "\n",
    "condition = False\n",
    "if condition:\n",
    "    print(\"Evaluated to True\")\n",
    "else:\n",
    "    print('Evaluated to False')"
   ]
  }
 ],
 "metadata": {
  "kernelspec": {
   "display_name": "Python 3 (ipykernel)",
   "language": "python",
   "name": "python3"
  },
  "language_info": {
   "codemirror_mode": {
    "name": "ipython",
    "version": 3
   },
   "file_extension": ".py",
   "mimetype": "text/x-python",
   "name": "python",
   "nbconvert_exporter": "python",
   "pygments_lexer": "ipython3",
   "version": "3.9.12"
  }
 },
 "nbformat": 4,
 "nbformat_minor": 5
}
